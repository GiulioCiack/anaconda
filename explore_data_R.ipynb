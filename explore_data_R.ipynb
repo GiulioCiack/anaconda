{
 "cells": [
  {
   "cell_type": "markdown",
   "metadata": {},
   "source": [
    "# Exploratory data analysis in R."
   ]
  },
  {
   "cell_type": "code",
   "execution_count": 2,
   "metadata": {},
   "outputs": [],
   "source": [
    "#Load the readr library to bring in the dataset\n",
    "library(readr)"
   ]
  },
  {
   "cell_type": "code",
   "execution_count": 3,
   "metadata": {},
   "outputs": [
    {
     "name": "stderr",
     "output_type": "stream",
     "text": [
      "\n",
      "\u001b[36m--\u001b[39m \u001b[1m\u001b[1mColumn specification\u001b[1m\u001b[22m \u001b[36m--------------------------------------------------------\u001b[39m\n",
      "cols(\n",
      "  Make = \u001b[31mcol_character()\u001b[39m,\n",
      "  Model = \u001b[31mcol_character()\u001b[39m,\n",
      "  Type = \u001b[31mcol_character()\u001b[39m,\n",
      "  Origin = \u001b[31mcol_character()\u001b[39m,\n",
      "  DriveTrain = \u001b[31mcol_character()\u001b[39m,\n",
      "  MSRP = \u001b[31mcol_character()\u001b[39m,\n",
      "  Invoice = \u001b[31mcol_character()\u001b[39m,\n",
      "  EngineSize = \u001b[32mcol_double()\u001b[39m,\n",
      "  Cylinders = \u001b[32mcol_double()\u001b[39m,\n",
      "  Horsepower = \u001b[32mcol_double()\u001b[39m,\n",
      "  MPG_City = \u001b[32mcol_double()\u001b[39m,\n",
      "  MPG_Highway = \u001b[32mcol_double()\u001b[39m,\n",
      "  Weight = \u001b[32mcol_double()\u001b[39m,\n",
      "  Wheelbase = \u001b[32mcol_double()\u001b[39m,\n",
      "  Length = \u001b[32mcol_double()\u001b[39m\n",
      ")\n",
      "\n",
      "\n"
     ]
    }
   ],
   "source": [
    "#Download the data set\n",
    "path = 'cars.csv'\n",
    "df= read_csv(path, col_names = TRUE)"
   ]
  },
  {
   "cell_type": "code",
   "execution_count": 4,
   "metadata": {},
   "outputs": [
    {
     "data": {
      "text/html": [
       "<table>\n",
       "<caption>A tibble: 10 × 15</caption>\n",
       "<thead>\n",
       "\t<tr><th scope=col>Make</th><th scope=col>Model</th><th scope=col>Type</th><th scope=col>Origin</th><th scope=col>DriveTrain</th><th scope=col>MSRP</th><th scope=col>Invoice</th><th scope=col>EngineSize</th><th scope=col>Cylinders</th><th scope=col>Horsepower</th><th scope=col>MPG_City</th><th scope=col>MPG_Highway</th><th scope=col>Weight</th><th scope=col>Wheelbase</th><th scope=col>Length</th></tr>\n",
       "\t<tr><th scope=col>&lt;chr&gt;</th><th scope=col>&lt;chr&gt;</th><th scope=col>&lt;chr&gt;</th><th scope=col>&lt;chr&gt;</th><th scope=col>&lt;chr&gt;</th><th scope=col>&lt;chr&gt;</th><th scope=col>&lt;chr&gt;</th><th scope=col>&lt;dbl&gt;</th><th scope=col>&lt;dbl&gt;</th><th scope=col>&lt;dbl&gt;</th><th scope=col>&lt;dbl&gt;</th><th scope=col>&lt;dbl&gt;</th><th scope=col>&lt;dbl&gt;</th><th scope=col>&lt;dbl&gt;</th><th scope=col>&lt;dbl&gt;</th></tr>\n",
       "</thead>\n",
       "<tbody>\n",
       "\t<tr><td>Acura</td><td>MDX                    </td><td>SUV   </td><td>Asia  </td><td>All  </td><td>$36,945</td><td>$33,337</td><td>3.5</td><td>6</td><td>265</td><td>17</td><td>23</td><td>4451</td><td>106</td><td>189</td></tr>\n",
       "\t<tr><td>Acura</td><td>RSX Type S 2dr         </td><td>Sedan </td><td>Asia  </td><td>Front</td><td>$23,820</td><td>$21,761</td><td>2.0</td><td>4</td><td>200</td><td>24</td><td>31</td><td>2778</td><td>101</td><td>172</td></tr>\n",
       "\t<tr><td>Acura</td><td>TSX 4dr                </td><td>Sedan </td><td>Asia  </td><td>Front</td><td>$26,990</td><td>$24,647</td><td>2.4</td><td>4</td><td>200</td><td>22</td><td>29</td><td>3230</td><td>105</td><td>183</td></tr>\n",
       "\t<tr><td>Acura</td><td>TL 4dr                 </td><td>Sedan </td><td>Asia  </td><td>Front</td><td>$33,195</td><td>$30,299</td><td>3.2</td><td>6</td><td>270</td><td>20</td><td>28</td><td>3575</td><td>108</td><td>186</td></tr>\n",
       "\t<tr><td>Acura</td><td>3.5 RL 4dr             </td><td>Sedan </td><td>Asia  </td><td>Front</td><td>$43,755</td><td>$39,014</td><td>3.5</td><td>6</td><td>225</td><td>18</td><td>24</td><td>3880</td><td>115</td><td>197</td></tr>\n",
       "\t<tr><td>Acura</td><td>3.5 RL w/Navigation 4dr</td><td>Sedan </td><td>Asia  </td><td>Front</td><td>$46,100</td><td>$41,100</td><td>3.5</td><td>6</td><td>225</td><td>18</td><td>24</td><td>3893</td><td>115</td><td>197</td></tr>\n",
       "\t<tr><td>Acura</td><td>NSX coupe 2dr manual S </td><td>Sports</td><td>Asia  </td><td>Rear </td><td>$89,765</td><td>$79,978</td><td>3.2</td><td>6</td><td>290</td><td>17</td><td>24</td><td>3153</td><td>100</td><td>174</td></tr>\n",
       "\t<tr><td>Audi </td><td>A4 1.8T 4dr            </td><td>Sedan </td><td>Europe</td><td>Front</td><td>$25,940</td><td>$23,508</td><td>1.8</td><td>4</td><td>170</td><td>22</td><td>31</td><td>3252</td><td>104</td><td>179</td></tr>\n",
       "\t<tr><td>Audi </td><td>A41.8T convertible 2dr </td><td>Sedan </td><td>Europe</td><td>Front</td><td>$35,940</td><td>$32,506</td><td>1.8</td><td>4</td><td>170</td><td>23</td><td>30</td><td>3638</td><td>105</td><td>180</td></tr>\n",
       "\t<tr><td>Audi </td><td>A4 3.0 4dr             </td><td>Sedan </td><td>Europe</td><td>Front</td><td>$31,840</td><td>$28,846</td><td>3.0</td><td>6</td><td>220</td><td>20</td><td>28</td><td>3462</td><td>104</td><td>179</td></tr>\n",
       "</tbody>\n",
       "</table>\n"
      ],
      "text/latex": [
       "A tibble: 10 × 15\n",
       "\\begin{tabular}{lllllllllllllll}\n",
       " Make & Model & Type & Origin & DriveTrain & MSRP & Invoice & EngineSize & Cylinders & Horsepower & MPG\\_City & MPG\\_Highway & Weight & Wheelbase & Length\\\\\n",
       " <chr> & <chr> & <chr> & <chr> & <chr> & <chr> & <chr> & <dbl> & <dbl> & <dbl> & <dbl> & <dbl> & <dbl> & <dbl> & <dbl>\\\\\n",
       "\\hline\n",
       "\t Acura & MDX                     & SUV    & Asia   & All   & \\$36,945 & \\$33,337 & 3.5 & 6 & 265 & 17 & 23 & 4451 & 106 & 189\\\\\n",
       "\t Acura & RSX Type S 2dr          & Sedan  & Asia   & Front & \\$23,820 & \\$21,761 & 2.0 & 4 & 200 & 24 & 31 & 2778 & 101 & 172\\\\\n",
       "\t Acura & TSX 4dr                 & Sedan  & Asia   & Front & \\$26,990 & \\$24,647 & 2.4 & 4 & 200 & 22 & 29 & 3230 & 105 & 183\\\\\n",
       "\t Acura & TL 4dr                  & Sedan  & Asia   & Front & \\$33,195 & \\$30,299 & 3.2 & 6 & 270 & 20 & 28 & 3575 & 108 & 186\\\\\n",
       "\t Acura & 3.5 RL 4dr              & Sedan  & Asia   & Front & \\$43,755 & \\$39,014 & 3.5 & 6 & 225 & 18 & 24 & 3880 & 115 & 197\\\\\n",
       "\t Acura & 3.5 RL w/Navigation 4dr & Sedan  & Asia   & Front & \\$46,100 & \\$41,100 & 3.5 & 6 & 225 & 18 & 24 & 3893 & 115 & 197\\\\\n",
       "\t Acura & NSX coupe 2dr manual S  & Sports & Asia   & Rear  & \\$89,765 & \\$79,978 & 3.2 & 6 & 290 & 17 & 24 & 3153 & 100 & 174\\\\\n",
       "\t Audi  & A4 1.8T 4dr             & Sedan  & Europe & Front & \\$25,940 & \\$23,508 & 1.8 & 4 & 170 & 22 & 31 & 3252 & 104 & 179\\\\\n",
       "\t Audi  & A41.8T convertible 2dr  & Sedan  & Europe & Front & \\$35,940 & \\$32,506 & 1.8 & 4 & 170 & 23 & 30 & 3638 & 105 & 180\\\\\n",
       "\t Audi  & A4 3.0 4dr              & Sedan  & Europe & Front & \\$31,840 & \\$28,846 & 3.0 & 6 & 220 & 20 & 28 & 3462 & 104 & 179\\\\\n",
       "\\end{tabular}\n"
      ],
      "text/markdown": [
       "\n",
       "A tibble: 10 × 15\n",
       "\n",
       "| Make &lt;chr&gt; | Model &lt;chr&gt; | Type &lt;chr&gt; | Origin &lt;chr&gt; | DriveTrain &lt;chr&gt; | MSRP &lt;chr&gt; | Invoice &lt;chr&gt; | EngineSize &lt;dbl&gt; | Cylinders &lt;dbl&gt; | Horsepower &lt;dbl&gt; | MPG_City &lt;dbl&gt; | MPG_Highway &lt;dbl&gt; | Weight &lt;dbl&gt; | Wheelbase &lt;dbl&gt; | Length &lt;dbl&gt; |\n",
       "|---|---|---|---|---|---|---|---|---|---|---|---|---|---|---|\n",
       "| Acura | MDX                     | SUV    | Asia   | All   | $36,945 | $33,337 | 3.5 | 6 | 265 | 17 | 23 | 4451 | 106 | 189 |\n",
       "| Acura | RSX Type S 2dr          | Sedan  | Asia   | Front | $23,820 | $21,761 | 2.0 | 4 | 200 | 24 | 31 | 2778 | 101 | 172 |\n",
       "| Acura | TSX 4dr                 | Sedan  | Asia   | Front | $26,990 | $24,647 | 2.4 | 4 | 200 | 22 | 29 | 3230 | 105 | 183 |\n",
       "| Acura | TL 4dr                  | Sedan  | Asia   | Front | $33,195 | $30,299 | 3.2 | 6 | 270 | 20 | 28 | 3575 | 108 | 186 |\n",
       "| Acura | 3.5 RL 4dr              | Sedan  | Asia   | Front | $43,755 | $39,014 | 3.5 | 6 | 225 | 18 | 24 | 3880 | 115 | 197 |\n",
       "| Acura | 3.5 RL w/Navigation 4dr | Sedan  | Asia   | Front | $46,100 | $41,100 | 3.5 | 6 | 225 | 18 | 24 | 3893 | 115 | 197 |\n",
       "| Acura | NSX coupe 2dr manual S  | Sports | Asia   | Rear  | $89,765 | $79,978 | 3.2 | 6 | 290 | 17 | 24 | 3153 | 100 | 174 |\n",
       "| Audi  | A4 1.8T 4dr             | Sedan  | Europe | Front | $25,940 | $23,508 | 1.8 | 4 | 170 | 22 | 31 | 3252 | 104 | 179 |\n",
       "| Audi  | A41.8T convertible 2dr  | Sedan  | Europe | Front | $35,940 | $32,506 | 1.8 | 4 | 170 | 23 | 30 | 3638 | 105 | 180 |\n",
       "| Audi  | A4 3.0 4dr              | Sedan  | Europe | Front | $31,840 | $28,846 | 3.0 | 6 | 220 | 20 | 28 | 3462 | 104 | 179 |\n",
       "\n"
      ],
      "text/plain": [
       "   Make  Model                   Type   Origin DriveTrain MSRP    Invoice\n",
       "1  Acura MDX                     SUV    Asia   All        $36,945 $33,337\n",
       "2  Acura RSX Type S 2dr          Sedan  Asia   Front      $23,820 $21,761\n",
       "3  Acura TSX 4dr                 Sedan  Asia   Front      $26,990 $24,647\n",
       "4  Acura TL 4dr                  Sedan  Asia   Front      $33,195 $30,299\n",
       "5  Acura 3.5 RL 4dr              Sedan  Asia   Front      $43,755 $39,014\n",
       "6  Acura 3.5 RL w/Navigation 4dr Sedan  Asia   Front      $46,100 $41,100\n",
       "7  Acura NSX coupe 2dr manual S  Sports Asia   Rear       $89,765 $79,978\n",
       "8  Audi  A4 1.8T 4dr             Sedan  Europe Front      $25,940 $23,508\n",
       "9  Audi  A41.8T convertible 2dr  Sedan  Europe Front      $35,940 $32,506\n",
       "10 Audi  A4 3.0 4dr              Sedan  Europe Front      $31,840 $28,846\n",
       "   EngineSize Cylinders Horsepower MPG_City MPG_Highway Weight Wheelbase Length\n",
       "1  3.5        6         265        17       23          4451   106       189   \n",
       "2  2.0        4         200        24       31          2778   101       172   \n",
       "3  2.4        4         200        22       29          3230   105       183   \n",
       "4  3.2        6         270        20       28          3575   108       186   \n",
       "5  3.5        6         225        18       24          3880   115       197   \n",
       "6  3.5        6         225        18       24          3893   115       197   \n",
       "7  3.2        6         290        17       24          3153   100       174   \n",
       "8  1.8        4         170        22       31          3252   104       179   \n",
       "9  1.8        4         170        23       30          3638   105       180   \n",
       "10 3.0        6         220        20       28          3462   104       179   "
      ]
     },
     "metadata": {},
     "output_type": "display_data"
    }
   ],
   "source": [
    "head(df, 10)"
   ]
  },
  {
   "cell_type": "code",
   "execution_count": 5,
   "metadata": {},
   "outputs": [
    {
     "data": {
      "text/html": [
       "<style>\n",
       ".list-inline {list-style: none; margin:0; padding: 0}\n",
       ".list-inline>li {display: inline-block}\n",
       ".list-inline>li:not(:last-child)::after {content: \"\\00b7\"; padding: 0 .5ex}\n",
       "</style>\n",
       "<ol class=list-inline><li>428</li><li>15</li></ol>\n"
      ],
      "text/latex": [
       "\\begin{enumerate*}\n",
       "\\item 428\n",
       "\\item 15\n",
       "\\end{enumerate*}\n"
      ],
      "text/markdown": [
       "1. 428\n",
       "2. 15\n",
       "\n",
       "\n"
      ],
      "text/plain": [
       "[1] 428  15"
      ]
     },
     "metadata": {},
     "output_type": "display_data"
    }
   ],
   "source": [
    "dim(df)"
   ]
  },
  {
   "cell_type": "code",
   "execution_count": 6,
   "metadata": {},
   "outputs": [
    {
     "name": "stderr",
     "output_type": "stream",
     "text": [
      "\n",
      "Attaching package: 'dplyr'\n",
      "\n",
      "\n",
      "The following objects are masked from 'package:stats':\n",
      "\n",
      "    filter, lag\n",
      "\n",
      "\n",
      "The following objects are masked from 'package:base':\n",
      "\n",
      "    intersect, setdiff, setequal, union\n",
      "\n",
      "\n"
     ]
    },
    {
     "name": "stdout",
     "output_type": "stream",
     "text": [
      "Rows: 428\n",
      "Columns: 15\n",
      "$ Make        \u001b[3m\u001b[90m<chr>\u001b[39m\u001b[23m \"Acura\", \"Acura\", \"Acura\", \"Acura\", \"Acura\", \"Acura\", \"...\n",
      "$ Model       \u001b[3m\u001b[90m<chr>\u001b[39m\u001b[23m \"MDX\", \"RSX Type S 2dr\", \"TSX 4dr\", \"TL 4dr\", \"3.5 RL 4...\n",
      "$ Type        \u001b[3m\u001b[90m<chr>\u001b[39m\u001b[23m \"SUV\", \"Sedan\", \"Sedan\", \"Sedan\", \"Sedan\", \"Sedan\", \"Sp...\n",
      "$ Origin      \u001b[3m\u001b[90m<chr>\u001b[39m\u001b[23m \"Asia\", \"Asia\", \"Asia\", \"Asia\", \"Asia\", \"Asia\", \"Asia\",...\n",
      "$ DriveTrain  \u001b[3m\u001b[90m<chr>\u001b[39m\u001b[23m \"All\", \"Front\", \"Front\", \"Front\", \"Front\", \"Front\", \"Re...\n",
      "$ MSRP        \u001b[3m\u001b[90m<chr>\u001b[39m\u001b[23m \"$36,945\", \"$23,820\", \"$26,990\", \"$33,195\", \"$43,755\", ...\n",
      "$ Invoice     \u001b[3m\u001b[90m<chr>\u001b[39m\u001b[23m \"$33,337\", \"$21,761\", \"$24,647\", \"$30,299\", \"$39,014\", ...\n",
      "$ EngineSize  \u001b[3m\u001b[90m<dbl>\u001b[39m\u001b[23m 3.5, 2.0, 2.4, 3.2, 3.5, 3.5, 3.2, 1.8, 1.8, 3.0, 3.0, ...\n",
      "$ Cylinders   \u001b[3m\u001b[90m<dbl>\u001b[39m\u001b[23m 6, 4, 4, 6, 6, 6, 6, 4, 4, 6, 6, 6, 6, 6, 6, 6, 6, 8, 8...\n",
      "$ Horsepower  \u001b[3m\u001b[90m<dbl>\u001b[39m\u001b[23m 265, 200, 200, 270, 225, 225, 290, 170, 170, 220, 220, ...\n",
      "$ MPG_City    \u001b[3m\u001b[90m<dbl>\u001b[39m\u001b[23m 17, 24, 22, 20, 18, 18, 17, 22, 23, 20, 17, 18, 20, 18,...\n",
      "$ MPG_Highway \u001b[3m\u001b[90m<dbl>\u001b[39m\u001b[23m 23, 31, 29, 28, 24, 24, 24, 31, 30, 28, 26, 25, 27, 25,...\n",
      "$ Weight      \u001b[3m\u001b[90m<dbl>\u001b[39m\u001b[23m 4451, 2778, 3230, 3575, 3880, 3893, 3153, 3252, 3638, 3...\n",
      "$ Wheelbase   \u001b[3m\u001b[90m<dbl>\u001b[39m\u001b[23m 106, 101, 105, 108, 115, 115, 100, 104, 105, 104, 104, ...\n",
      "$ Length      \u001b[3m\u001b[90m<dbl>\u001b[39m\u001b[23m 189, 172, 183, 186, 197, 197, 174, 179, 180, 179, 179, ...\n"
     ]
    }
   ],
   "source": [
    "#Displays the type and a preview of all columns as a row so that it's very easy to take in.\n",
    "#This will display a vertical preview of the dataset. It allows us to easily preview data type and sample data.\n",
    "\n",
    "library(dplyr)\n",
    "glimpse(df)"
   ]
  },
  {
   "cell_type": "code",
   "execution_count": 7,
   "metadata": {},
   "outputs": [
    {
     "name": "stderr",
     "output_type": "stream",
     "text": [
      "Warning message:\n",
      "\"package 'skimr' is in use and will not be installed\"\n"
     ]
    }
   ],
   "source": [
    "install.packages(\"skimr\")"
   ]
  },
  {
   "cell_type": "code",
   "execution_count": 8,
   "metadata": {},
   "outputs": [
    {
     "name": "stdout",
     "output_type": "stream",
     "text": [
      "-- Data Summary ------------------------\n",
      "                           Values\n",
      "Name                       df    \n",
      "Number of rows             428   \n",
      "Number of columns          15    \n",
      "_______________________          \n",
      "Column type frequency:           \n",
      "  character                7     \n",
      "  numeric                  8     \n",
      "________________________         \n",
      "Group variables            None  \n",
      "\n",
      "-- Variable type: character ----------------------------------------------------\n",
      "# A tibble: 7 x 8\n",
      "  skim_variable n_missing complete_rate   min   max empty n_unique whitespace\n",
      "* <chr>             <int>         <dbl> <int> <int> <int>    <int>      <int>\n",
      "1 Make                  0             1     3    13     0       38          0\n",
      "2 Model                 0             1     2    39     0      425          0\n",
      "3 Type                  0             1     3     6     0        6          0\n",
      "4 Origin                0             1     3     6     0        3          0\n",
      "5 DriveTrain            0             1     3     5     0        3          0\n",
      "6 MSRP                  0             1     7     8     0      410          0\n",
      "7 Invoice               0             1     6     8     0      425          0\n",
      "\n",
      "-- Variable type: numeric ------------------------------------------------------\n",
      "# A tibble: 8 x 11\n",
      "  skim_variable n_missing complete_rate    mean     sd     p0     p25   p50\n",
      "* <chr>             <int>         <dbl>   <dbl>  <dbl>  <dbl>   <dbl> <dbl>\n",
      "1 EngineSize            0         1        3.20   1.11    1.3    2.38    3 \n",
      "2 Cylinders             2         0.995    5.81   1.56    3      4       6 \n",
      "3 Horsepower            0         1      216.    71.8    73    165     210 \n",
      "4 MPG_City              0         1       20.1    5.24   10     17      19 \n",
      "5 MPG_Highway           0         1       26.8    5.74   12     24      26 \n",
      "6 Weight                0         1     3578.   759.   1850   3104    3474.\n",
      "7 Wheelbase             0         1      108.     8.31   89    103     107 \n",
      "8 Length                0         1      186.    14.4   143    178     187 \n",
      "     p75   p100 hist \n",
      "*  <dbl>  <dbl> <chr>\n",
      "1    3.9    8.3 <U+2587><U+2587><U+2583><U+2581><U+2581>\n",
      "2    6     12   <U+2586><U+2587><U+2583><U+2581><U+2581>\n",
      "3  255    500   <U+2583><U+2587><U+2583><U+2581><U+2581>\n",
      "4   21.2   60   <U+2587><U+2583><U+2581><U+2581><U+2581>\n",
      "5   29     66   <U+2582><U+2587><U+2581><U+2581><U+2581>\n",
      "6 3978.  7190   <U+2582><U+2587><U+2583><U+2581><U+2581>\n",
      "7  112    144   <U+2582><U+2587><U+2583><U+2581><U+2581>\n",
      "8  194    238   <U+2581><U+2586><U+2587><U+2582><U+2581>\n"
     ]
    }
   ],
   "source": [
    "#It displays most of the numerical attributes from summary, but it also displays missing values, more quantile information and an inline histogram for each variable!\n",
    "library(skimr)\n",
    "skim(df)"
   ]
  },
  {
   "cell_type": "code",
   "execution_count": 9,
   "metadata": {},
   "outputs": [
    {
     "name": "stderr",
     "output_type": "stream",
     "text": [
      "Installing package into 'C:/Users/giuli/OneDrive/Documenti/R/win-library/4.0'\n",
      "(as 'lib' is unspecified)\n",
      "\n"
     ]
    },
    {
     "name": "stdout",
     "output_type": "stream",
     "text": [
      "package 'devtools' successfully unpacked and MD5 sums checked\n",
      "\n",
      "The downloaded binary packages are in\n",
      "\tC:\\Users\\giuli\\AppData\\Local\\Temp\\Rtmpeuy9L3\\downloaded_packages\n"
     ]
    },
    {
     "name": "stderr",
     "output_type": "stream",
     "text": [
      "Loading required package: usethis\n",
      "\n"
     ]
    }
   ],
   "source": [
    "install.packages(\"devtools\")\n",
    "library(devtools)"
   ]
  },
  {
   "cell_type": "code",
   "execution_count": 10,
   "metadata": {},
   "outputs": [
    {
     "name": "stderr",
     "output_type": "stream",
     "text": [
      "WARNING: Rtools is required to build R packages, but is not currently installed.\n",
      "\n",
      "Please download and install Rtools 4.0 from https://cran.r-project.org/bin/windows/Rtools/.\n",
      "\n",
      "Skipping install of 'visdat' from a github remote, the SHA1 (8121dfe6) has not changed since last install.\n",
      "  Use `force = TRUE` to force installation\n",
      "\n"
     ]
    }
   ],
   "source": [
    "devtools::install_github(\"ropensci/visdat\")\n",
    "library(visdat)"
   ]
  },
  {
   "cell_type": "code",
   "execution_count": 11,
   "metadata": {},
   "outputs": [
    {
     "data": {
      "image/png": "[encoded data removed]",
      "text/plain": [
       "plot without title"
      ]
     },
     "metadata": {
      "image/png": {
       "height": 420,
       "width": 420
      }
     },
     "output_type": "display_data"
    },
    {
     "data": {
      "image/png": "[encoded data removed]",
      "text/plain": [
       "plot without title"
      ]
     },
     "metadata": {
      "image/png": {
       "height": 420,
       "width": 420
      }
     },
     "output_type": "display_data"
    }
   ],
   "source": [
    "#The Vis_dat() function of the visdat package is a great way to visualize the data type and missing data within a data frame.\n",
    "vis_miss(df)\n",
    "vis_dat(df)"
   ]
  },
  {
   "cell_type": "code",
   "execution_count": 22,
   "metadata": {},
   "outputs": [
    {
     "name": "stderr",
     "output_type": "stream",
     "text": [
      "Installing package into 'C:/Users/giuli/OneDrive/Documenti/R/win-library/4.0'\n",
      "(as 'lib' is unspecified)\n",
      "\n",
      "Warning message:\n",
      "\"package 'DataExplorer' is not available for this version of R\n",
      "\n",
      "A version of this package for your version of R might be available elsewhere,\n",
      "see the ideas at\n",
      "https://cran.r-project.org/doc/manuals/r-patched/R-admin.html#Installing-packages\"\n"
     ]
    },
    {
     "ename": "ERROR",
     "evalue": "Error in library(DataExplorer): there is no package called 'DataExplorer'\n",
     "output_type": "error",
     "traceback": [
      "Error in library(DataExplorer): there is no package called 'DataExplorer'\nTraceback:\n",
      "1. library(DataExplorer)"
     ]
    }
   ],
   "source": [
    "install.packages(\"DataExplorer\")\n",
    "library(DataExplorer)"
   ]
  },
  {
   "cell_type": "code",
   "execution_count": 17,
   "metadata": {},
   "outputs": [
    {
     "ename": "ERROR",
     "evalue": "Error in loadNamespace(name): there is no package called 'DataExplorer'\n",
     "output_type": "error",
     "traceback": [
      "Error in loadNamespace(name): there is no package called 'DataExplorer'\nTraceback:\n",
      "1. DataExplorer::create_report",
      "2. getExportedValue(pkg, name)",
      "3. asNamespace(ns)",
      "4. getNamespace(ns)",
      "5. loadNamespace(name)",
      "6. withRestarts(stop(cond), retry_loadNamespace = function() NULL)",
      "7. withOneRestart(expr, restarts[[1L]])",
      "8. doWithOneRestart(return(expr), restart)"
     ]
    }
   ],
   "source": [
    "#It will produce a html file with the basic statistics, structure, missing data, distribution visualizations, correlation matrix and principal component analysis for your data frame\n",
    "DataExplorer::create_report(df)"
   ]
  },
  {
   "cell_type": "code",
   "execution_count": null,
   "metadata": {},
   "outputs": [],
   "source": []
  }
 ],
 "metadata": {
  "kernelspec": {
   "display_name": "R",
   "language": "R",
   "name": "ir"
  },
  "language_info": {
   "codemirror_mode": "r",
   "file_extension": ".r",
   "mimetype": "text/x-r-source",
   "name": "R",
   "pygments_lexer": "r",
   "version": "3.6.1"
  }
 },
 "nbformat": 4,
 "nbformat_minor": 4
}
